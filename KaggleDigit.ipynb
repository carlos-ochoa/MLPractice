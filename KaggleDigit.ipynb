{
  "nbformat": 4,
  "nbformat_minor": 0,
  "metadata": {
    "colab": {
      "name": "KaggleDigit.ipynb",
      "provenance": [],
      "mount_file_id": "1-RAUQgtYHog5SEOr2q_wHM5dFMqo3fvw",
      "authorship_tag": "ABX9TyNPywAc2RCwawF07CmYBoBc",
      "include_colab_link": true
    },
    "kernelspec": {
      "name": "python3",
      "display_name": "Python 3"
    }
  },
  "cells": [
    {
      "cell_type": "markdown",
      "metadata": {
        "id": "view-in-github",
        "colab_type": "text"
      },
      "source": [
        "<a href=\"https://colab.research.google.com/github/carlos-ochoa/ML_Notebooks/blob/main/KaggleDigit.ipynb\" target=\"_parent\"><img src=\"https://colab.research.google.com/assets/colab-badge.svg\" alt=\"Open In Colab\"/></a>"
      ]
    },
    {
      "cell_type": "markdown",
      "metadata": {
        "id": "LB7S5N7q2fzo"
      },
      "source": [
        "# Digit Recognizer Kaggle competition\n",
        "\n",
        "In this notebook I'm going to describe my development proccess in order to achieve a high accuray in this Kaggle competition:\n",
        "\n",
        "https://www.kaggle.com/c/digit-recognizer/overview\n",
        "\n",
        "This is my first competition :)"
      ]
    },
    {
      "cell_type": "code",
      "metadata": {
        "id": "K3XDGoBio0G-",
        "outputId": "75bc7f8f-5c5a-497a-b69b-a7e8ad20aa18",
        "colab": {
          "base_uri": "https://localhost:8080/",
          "height": 68
        }
      },
      "source": [
        "import tensorflow as tf\n",
        "import tensorflow.keras as keras\n",
        "from tensorflow.keras.datasets.mnist import load_data\n",
        "import numpy as np\n",
        "import matplotlib.pyplot as plt\n",
        "import random\n",
        "from sklearn.neighbors import KNeighborsClassifier\n",
        "from sklearn.svm import SVC\n",
        "from sklearn.linear_model import SGDClassifier\n",
        "from sklearn.pipeline import Pipeline\n",
        "from sklearn.model_selection import RandomizedSearchCV\n",
        "from scipy.stats import uniform, truncnorm, randint\n",
        "from sklearn import metrics\n",
        "from collections import Counter\n",
        "from sklearn.ensemble import VotingClassifier\n",
        "import joblib\n",
        "\n",
        "\n",
        "!pip install python-mnist\n",
        "!pip install pickle\n",
        "\n",
        "from pickle import load, dump\n",
        "\n",
        "from mnist import MNIST"
      ],
      "execution_count": null,
      "outputs": [
        {
          "output_type": "stream",
          "text": [
            "Requirement already satisfied: python-mnist in /usr/local/lib/python3.6/dist-packages (0.7)\n",
            "\u001b[31mERROR: Could not find a version that satisfies the requirement pickle (from versions: none)\u001b[0m\n",
            "\u001b[31mERROR: No matching distribution found for pickle\u001b[0m\n"
          ],
          "name": "stdout"
        }
      ]
    },
    {
      "cell_type": "markdown",
      "metadata": {
        "id": "sAG4OiIv2eXc"
      },
      "source": [
        "### Data preprocessing\n",
        "\n",
        "So we have our data as a list of ints, but I want to use a vectorized form so let's create some numpy arrays with them so that they could be reshaped when needed.\n",
        "\n",
        "It's a good idea to rescale our image's values, so I'm gonna divide every value in each array by 255\n",
        "\n"
      ]
    },
    {
      "cell_type": "code",
      "metadata": {
        "id": "ZCgvyyv21AI0",
        "outputId": "fbc29265-e228-4da1-e464-5bcbab32f2c3",
        "colab": {
          "base_uri": "https://localhost:8080/",
          "height": 282
        }
      },
      "source": [
        "# Load the training and testing data\n",
        "(x_train, y_train), (x_test, y_test) = load_data()\n",
        "\n",
        "# Normalize the images\n",
        "x_train, x_test = x_train / 255.0, x_test / 255.0\n",
        "\n",
        "x_train = np.reshape(x_train,(60000,784))\n",
        "x_test = np.reshape(x_test,(10000,784))\n",
        "\n",
        "x_train_nn = np.reshape(x_train,(60000,28,28,1))\n",
        "x_test_nn = np.reshape(x_test,(10000,28,28,1))\n",
        "\n",
        "index = random.randrange(0, 60000) \n",
        "\n",
        "plt.imshow(np.array(x_train[index]).reshape(28,28))"
      ],
      "execution_count": null,
      "outputs": [
        {
          "output_type": "execute_result",
          "data": {
            "text/plain": [
              "<matplotlib.image.AxesImage at 0x7f70f947cda0>"
            ]
          },
          "metadata": {
            "tags": []
          },
          "execution_count": 12
        },
        {
          "output_type": "display_data",
          "data": {
            "image/png": "[encoded data removed]",
            "text/plain": [
              "<Figure size 432x288 with 1 Axes>"
            ]
          },
          "metadata": {
            "tags": [],
            "needs_background": "light"
          }
        }
      ]
    },
    {
      "cell_type": "markdown",
      "metadata": {
        "id": "wsyZlFRn6F-C"
      },
      "source": [
        "Fortunately, this dataset has been provided with preprocessed images, so that this step would be very little for everyone."
      ]
    },
    {
      "cell_type": "markdown",
      "metadata": {
        "id": "kET7lQWO6SLQ"
      },
      "source": [
        "## Trying some models\n",
        "\n",
        "This is the funny part! I'm gonna try some different models created with sklearn and tensorflow and maybe if I can do it make an ensembble model! We'll see haha"
      ]
    },
    {
      "cell_type": "code",
      "metadata": {
        "id": "fyE4BiGC5V0R",
        "outputId": "db4bf254-82c4-461a-cac5-cb9f949656b6",
        "colab": {
          "base_uri": "https://localhost:8080/",
          "height": 120
        }
      },
      "source": [
        "# The first model is KNN, let's define a pipeline in order to reuse it later with other \n",
        "\n",
        "classifiers = {\n",
        "  'knn' : KNeighborsClassifier(n_neighbors=25, weights = 'distance') ,\n",
        "  'svc' : SVC(kernel = 'rbf'),\n",
        "  'sgd' : SGDClassifier()\n",
        "}\n",
        "\n",
        "# Then let's create a dictionary of dictionaries that contain parameters for every classifier to be tested by randomized search\n",
        "\n",
        "parameters = {}\n",
        "\n",
        "parameters['knn'] = {\n",
        "    'n_neighbors' : randint(1,500),\n",
        "    'weights' : ['uniform','distance']\n",
        "}\n",
        "\n",
        "parameters['svc'] = {\n",
        "    'C' : uniform(1, 10),\n",
        "    'kernel' : ['linear', 'poly', 'rbf', 'sigmoid', 'precomputed'],\n",
        "    'degree' : randint(1,10)\n",
        "}\n",
        "\n",
        "parameters['sgd'] = {\n",
        "    'alpha': uniform(0.0001, 0.199)\n",
        "}\n",
        "\n",
        "# Now it's time to do a randomized search\n",
        "\n",
        "clf_knn = RandomizedSearchCV(classifiers['knn'], parameters['knn'], n_iter = 100, cv = 5)\n",
        "clf_svc = RandomizedSearchCV(classifiers['svc'], parameters['svc'], n_iter = 100, cv = 5)\n",
        "clf_sgd = RandomizedSearchCV(classifiers['sgd'], parameters['sgd'], n_iter = 100, cv = 5)\n",
        "\n",
        "print('training')\n",
        "classifiers['knn'].fit(x_train, y_train)\n",
        "y_pred = classifiers['knn'].predict(x_test)\n",
        "print(metrics.accuracy_score(y_test, y_pred))\n",
        "joblib.dump(classifiers['knn'], \"knn2.sav\")\n",
        "'''\n",
        "dump(classifiers['knn'], open(\"knn.sav\", \"wb\"))\n",
        "\n",
        "print('training')\n",
        "classifiers['svc'].fit(x_train, y_train)\n",
        "y_pred = classifiers['svc'].predict(x_test)\n",
        "print(metrics.accuracy_score(y_test, y_pred))\n",
        "dump(classifiers['svc'], open(\"svc.sav\", \"wb\"))\n",
        "\n",
        "print('training')\n",
        "classifiers['sgd'].fit(x_train, y_train)\n",
        "y_pred = classifiers['sgd'].predict(x_test)\n",
        "print(metrics.accuracy_score(y_test, y_pred))\n",
        "dump(classifiers['sgd'], open(\"sgd.sav\", \"wb\"))\n",
        "\n",
        "#search = clf_svc.fit(x_train, y_train)\n",
        "#print(search.best_params_)\n",
        "#print(search.cv_results_)\n",
        "'''"
      ],
      "execution_count": null,
      "outputs": [
        {
          "output_type": "stream",
          "text": [
            "training\n",
            "0.9612\n"
          ],
          "name": "stdout"
        },
        {
          "output_type": "execute_result",
          "data": {
            "application/vnd.google.colaboratory.intrinsic+json": {
              "type": "string"
            },
            "text/plain": [
              "'\\ndump(classifiers[\\'knn\\'], open(\"knn.sav\", \"wb\"))\\n\\nprint(\\'training\\')\\nclassifiers[\\'svc\\'].fit(x_train, y_train)\\ny_pred = classifiers[\\'svc\\'].predict(x_test)\\nprint(metrics.accuracy_score(y_test, y_pred))\\ndump(classifiers[\\'svc\\'], open(\"svc.sav\", \"wb\"))\\n\\nprint(\\'training\\')\\nclassifiers[\\'sgd\\'].fit(x_train, y_train)\\ny_pred = classifiers[\\'sgd\\'].predict(x_test)\\nprint(metrics.accuracy_score(y_test, y_pred))\\ndump(classifiers[\\'sgd\\'], open(\"sgd.sav\", \"wb\"))\\n\\n#search = clf_svc.fit(x_train, y_train)\\n#print(search.best_params_)\\n#print(search.cv_results_)\\n'"
            ]
          },
          "metadata": {
            "tags": []
          },
          "execution_count": 13
        }
      ]
    },
    {
      "cell_type": "markdown",
      "metadata": {
        "id": "zeUPF9XbgmGd"
      },
      "source": [
        "Next I'm going to try a CNN with a custom callback"
      ]
    },
    {
      "cell_type": "code",
      "metadata": {
        "id": "ICuDFOhbsiCK"
      },
      "source": [
        "class MyCallback(tf.keras.callbacks.Callback):\n",
        "\n",
        "  def on_epoch_end(self, epoch, logs=None):\n",
        "    val_acc = logs[\"accuracy\"]\n",
        "    if val_acc >= 0.995:\n",
        "       self.model.stop_training = True\n"
      ],
      "execution_count": null,
      "outputs": []
    },
    {
      "cell_type": "code",
      "metadata": {
        "id": "1mH8PQ4BgqW4",
        "outputId": "4db15bef-4267-4315-cfc5-3702d1370ad3",
        "colab": {
          "base_uri": "https://localhost:8080/",
          "height": 1000
        }
      },
      "source": [
        "callbacks = MyCallback()\n",
        "\n",
        "model = keras.Sequential(\n",
        "    [\n",
        "     keras.layers.Conv2D(filters = 10, kernel_size = 3, activation = 'relu', input_shape = (28,28,1)),\n",
        "     keras.layers.MaxPool2D((2,2)),\n",
        "     keras.layers.Conv2D(filters = 10, kernel_size = 3, activation = 'relu'),\n",
        "     keras.layers.MaxPool2D((2,2)),\n",
        "     keras.layers.Flatten(),\n",
        "     keras.layers.Dense(units = 10, activation = 'softmax')\n",
        "    ]\n",
        ")\n",
        "\n",
        "model.compile(optimizer='adam',\n",
        "              loss='sparse_categorical_crossentropy',\n",
        "              metrics=['accuracy'])\n",
        "\n",
        "history = model.fit(x_train_nn, y_train, epochs = 200, verbose = 1, callbacks = [callbacks])\n",
        "\n",
        "test_loss, test_acc = model.evaluate(x_test_nn,  y_test, verbose=2)\n",
        "\n",
        "print('\\nTest accuracy:', test_acc)"
      ],
      "execution_count": null,
      "outputs": [
        {
          "output_type": "stream",
          "text": [
            "Epoch 1/200\n",
            "1875/1875 [==============================] - 22s 12ms/step - loss: 0.2852 - accuracy: 0.9156\n",
            "Epoch 2/200\n",
            "1875/1875 [==============================] - 22s 12ms/step - loss: 0.1066 - accuracy: 0.9684\n",
            "Epoch 3/200\n",
            "1875/1875 [==============================] - 22s 12ms/step - loss: 0.0838 - accuracy: 0.9747\n",
            "Epoch 4/200\n",
            "1875/1875 [==============================] - 21s 11ms/step - loss: 0.0708 - accuracy: 0.9784\n",
            "Epoch 5/200\n",
            "1875/1875 [==============================] - 21s 11ms/step - loss: 0.0622 - accuracy: 0.9811\n",
            "Epoch 6/200\n",
            "1875/1875 [==============================] - 22s 12ms/step - loss: 0.0559 - accuracy: 0.9826\n",
            "Epoch 7/200\n",
            "1875/1875 [==============================] - 22s 12ms/step - loss: 0.0509 - accuracy: 0.9842\n",
            "Epoch 8/200\n",
            "1875/1875 [==============================] - 21s 11ms/step - loss: 0.0470 - accuracy: 0.9855\n",
            "Epoch 9/200\n",
            "1875/1875 [==============================] - 21s 11ms/step - loss: 0.0438 - accuracy: 0.9864\n",
            "Epoch 10/200\n",
            "1875/1875 [==============================] - 21s 11ms/step - loss: 0.0411 - accuracy: 0.9872\n",
            "Epoch 11/200\n",
            "1875/1875 [==============================] - 22s 11ms/step - loss: 0.0392 - accuracy: 0.9875\n",
            "Epoch 12/200\n",
            "1875/1875 [==============================] - 21s 11ms/step - loss: 0.0371 - accuracy: 0.9884\n",
            "Epoch 13/200\n",
            "1875/1875 [==============================] - 21s 11ms/step - loss: 0.0351 - accuracy: 0.9889\n",
            "Epoch 14/200\n",
            "1875/1875 [==============================] - 21s 11ms/step - loss: 0.0329 - accuracy: 0.9894\n",
            "Epoch 15/200\n",
            "1875/1875 [==============================] - 24s 13ms/step - loss: 0.0319 - accuracy: 0.9898\n",
            "Epoch 16/200\n",
            "1875/1875 [==============================] - 22s 12ms/step - loss: 0.0313 - accuracy: 0.9901\n",
            "Epoch 17/200\n",
            "1875/1875 [==============================] - 21s 11ms/step - loss: 0.0294 - accuracy: 0.9904\n",
            "Epoch 18/200\n",
            "1875/1875 [==============================] - 21s 11ms/step - loss: 0.0280 - accuracy: 0.9915\n",
            "Epoch 19/200\n",
            "1875/1875 [==============================] - 21s 11ms/step - loss: 0.0279 - accuracy: 0.9910\n",
            "Epoch 20/200\n",
            "1875/1875 [==============================] - 22s 12ms/step - loss: 0.0269 - accuracy: 0.9915\n",
            "Epoch 21/200\n",
            "1875/1875 [==============================] - 22s 12ms/step - loss: 0.0261 - accuracy: 0.9914\n",
            "Epoch 22/200\n",
            "1875/1875 [==============================] - 22s 12ms/step - loss: 0.0245 - accuracy: 0.9920\n",
            "Epoch 23/200\n",
            "1875/1875 [==============================] - 22s 11ms/step - loss: 0.0245 - accuracy: 0.9923\n",
            "Epoch 24/200\n",
            "1875/1875 [==============================] - 22s 12ms/step - loss: 0.0236 - accuracy: 0.9923\n",
            "Epoch 25/200\n",
            "1875/1875 [==============================] - 21s 11ms/step - loss: 0.0227 - accuracy: 0.9927\n",
            "Epoch 26/200\n",
            "1875/1875 [==============================] - 22s 12ms/step - loss: 0.0219 - accuracy: 0.9930\n",
            "Epoch 27/200\n",
            "1875/1875 [==============================] - 22s 12ms/step - loss: 0.0216 - accuracy: 0.9932\n",
            "Epoch 28/200\n",
            "1875/1875 [==============================] - 21s 11ms/step - loss: 0.0215 - accuracy: 0.9929\n",
            "Epoch 29/200\n",
            "1875/1875 [==============================] - 22s 12ms/step - loss: 0.0199 - accuracy: 0.9935\n",
            "Epoch 30/200\n",
            "1875/1875 [==============================] - 22s 12ms/step - loss: 0.0198 - accuracy: 0.9933\n",
            "Epoch 31/200\n",
            "1875/1875 [==============================] - 22s 12ms/step - loss: 0.0195 - accuracy: 0.9936\n",
            "Epoch 32/200\n",
            "1875/1875 [==============================] - 22s 12ms/step - loss: 0.0188 - accuracy: 0.9937\n",
            "Epoch 33/200\n",
            "1875/1875 [==============================] - 22s 12ms/step - loss: 0.0191 - accuracy: 0.9937\n",
            "Epoch 34/200\n",
            "1875/1875 [==============================] - 22s 12ms/step - loss: 0.0182 - accuracy: 0.9942\n",
            "Epoch 35/200\n",
            "1875/1875 [==============================] - 22s 12ms/step - loss: 0.0185 - accuracy: 0.9936\n",
            "Epoch 36/200\n",
            "1875/1875 [==============================] - 22s 12ms/step - loss: 0.0175 - accuracy: 0.9944\n",
            "Epoch 37/200\n",
            "1875/1875 [==============================] - 22s 12ms/step - loss: 0.0173 - accuracy: 0.9941\n",
            "Epoch 38/200\n",
            "1875/1875 [==============================] - 22s 12ms/step - loss: 0.0162 - accuracy: 0.9946\n",
            "Epoch 39/200\n",
            "1875/1875 [==============================] - 22s 12ms/step - loss: 0.0160 - accuracy: 0.9948\n",
            "Epoch 40/200\n",
            "1875/1875 [==============================] - 22s 12ms/step - loss: 0.0153 - accuracy: 0.9949\n",
            "Epoch 41/200\n",
            "1875/1875 [==============================] - 22s 12ms/step - loss: 0.0159 - accuracy: 0.9947\n",
            "Epoch 42/200\n",
            "1875/1875 [==============================] - 22s 12ms/step - loss: 0.0144 - accuracy: 0.9957\n",
            "313/313 - 2s - loss: 0.0612 - accuracy: 0.9844\n",
            "\n",
            "Test accuracy: 0.9843999743461609\n"
          ],
          "name": "stdout"
        }
      ]
    },
    {
      "cell_type": "code",
      "metadata": {
        "id": "KqDuo2wK1Hf4",
        "outputId": "52cd6ce4-c2ab-4956-b5da-998df5149e49",
        "colab": {
          "base_uri": "https://localhost:8080/",
          "height": 34
        }
      },
      "source": [
        "model.save('drive/My Drive/CNN')"
      ],
      "execution_count": null,
      "outputs": [
        {
          "output_type": "stream",
          "text": [
            "INFO:tensorflow:Assets written to: drive/My Drive/CNN/assets\n"
          ],
          "name": "stdout"
        }
      ]
    },
    {
      "cell_type": "markdown",
      "metadata": {
        "id": "bUCViCbwl9r0"
      },
      "source": [
        "The next cell is only in case of needing the models to be loaded"
      ]
    },
    {
      "cell_type": "code",
      "metadata": {
        "id": "V8WcWD-sVRIX"
      },
      "source": [
        "# load models \n",
        "classifiers['knn'] = joblib.load('knn2.sav')\n",
        "classifiers['svc'] = load(open('svc.sav', 'rb'))\n",
        "classifiers['sgd'] = load(open('sgd.sav', 'rb'))\n",
        "\n",
        "nn = keras.models.load_model('drive/My Drive/CNN')"
      ],
      "execution_count": null,
      "outputs": []
    },
    {
      "cell_type": "markdown",
      "metadata": {
        "id": "BkC5torFngSt"
      },
      "source": [
        "## Ensemble learning method\n",
        "\n",
        "I want to try one more classifying method using ensemble learning by a max-voting classifier, first only trying with KNN, SVC and SGD. "
      ]
    },
    {
      "cell_type": "code",
      "metadata": {
        "id": "BV5ahXweB_1u",
        "outputId": "7595ea57-359b-4be5-dd63-1391a59bf63f",
        "colab": {
          "base_uri": "https://localhost:8080/",
          "height": 34
        }
      },
      "source": [
        "voting_clf = VotingClassifier(\n",
        "  estimators=[('knn', classifiers['knn']), ('svc', classifiers['svc']), ('sgd', classifiers['sgd'])],\n",
        "  voting='hard'\n",
        ")\n",
        "voting_clf.fit(x_train, y_train)\n",
        "y_pred = voting_clf.predict(x_test)\n",
        "\n",
        "print(metrics.accuracy_score(y_test, y_pred))"
      ],
      "execution_count": null,
      "outputs": [
        {
          "output_type": "stream",
          "text": [
            "0.9692\n"
          ],
          "name": "stdout"
        }
      ]
    },
    {
      "cell_type": "markdown",
      "metadata": {
        "id": "mjtddABEqix7"
      },
      "source": [
        "As we can see, the accuracy of this is only 0.9692, not enough, even worse than SVC accuracy."
      ]
    },
    {
      "cell_type": "code",
      "metadata": {
        "id": "jwQtiivKJ3_3"
      },
      "source": [
        "dump(voting_clf, open(\"vote.sav\", \"wb\"))"
      ],
      "execution_count": null,
      "outputs": []
    },
    {
      "cell_type": "markdown",
      "metadata": {
        "id": "rz9LpUB8qtxI"
      },
      "source": [
        "The next function is defined by myself. Only to add the CNN to the equation."
      ]
    },
    {
      "cell_type": "code",
      "metadata": {
        "id": "YiPbCbA2i9g7"
      },
      "source": [
        "# Ensemble learning\n",
        "\n",
        "# predictions is a list containing every prediction of each classifier\n",
        "\n",
        "def ensemble_predictions(predictions, len_pred):\n",
        "  classes, final_predictions = [], []\n",
        "  for prediction in range(len_pred):\n",
        "    for p in predictions:\n",
        "      #print(p[prediction])\n",
        "      classes.append(p[prediction])\n",
        "    most_common, count = Counter(classes).most_common(1)[0]\n",
        "    final_predictions.append(most_common)\n",
        "    classes.clear()\n",
        "  return np.array(final_predictions)"
      ],
      "execution_count": null,
      "outputs": []
    },
    {
      "cell_type": "code",
      "metadata": {
        "id": "xywJnKwfdyHo",
        "outputId": "d5469b11-9774-4ba2-d25a-c2e14c34cce9",
        "colab": {
          "base_uri": "https://localhost:8080/",
          "height": 459
        }
      },
      "source": [
        "\n",
        "print('starting')\n",
        "y_pred_knn = classifiers['knn'].predict(x_test)\n",
        "print('Pred Knn')\n",
        "y_pred_svc = classifiers['svc'].predict(x_test)\n",
        "print('Pred SVC')\n",
        "y_pred_sgd = classifiers['sgd'].predict(x_test)\n",
        "print('Pred SGD')\n",
        "\n",
        "y_pred_nn = nn.predict(x_test_nn)\n",
        "print('Pred nn')\n",
        "\n",
        "\n",
        "\n"
      ],
      "execution_count": null,
      "outputs": [
        {
          "output_type": "stream",
          "text": [
            "starting\n",
            "Pred Knn\n",
            "Pred SVC\n",
            "Pred SGD\n",
            "Pred nn\n"
          ],
          "name": "stdout"
        },
        {
          "output_type": "error",
          "ename": "TypeError",
          "evalue": "ignored",
          "traceback": [
            "\u001b[0;31m---------------------------------------------------------------------------\u001b[0m",
            "\u001b[0;31mTypeError\u001b[0m                                 Traceback (most recent call last)",
            "\u001b[0;32m<ipython-input-17-42c8c4a43952>\u001b[0m in \u001b[0;36m<module>\u001b[0;34m()\u001b[0m\n\u001b[1;32m     25\u001b[0m \u001b[0mpreds\u001b[0m \u001b[0;34m=\u001b[0m \u001b[0;34m[\u001b[0m\u001b[0my_pred_knn\u001b[0m\u001b[0;34m,\u001b[0m\u001b[0my_pred_svc\u001b[0m\u001b[0;34m,\u001b[0m\u001b[0my_pred_sgd\u001b[0m\u001b[0;34m,\u001b[0m\u001b[0my_pred_nn\u001b[0m\u001b[0;34m]\u001b[0m\u001b[0;34m\u001b[0m\u001b[0;34m\u001b[0m\u001b[0m\n\u001b[1;32m     26\u001b[0m \u001b[0;34m\u001b[0m\u001b[0m\n\u001b[0;32m---> 27\u001b[0;31m \u001b[0my_pred\u001b[0m \u001b[0;34m=\u001b[0m \u001b[0mensemble_predictions\u001b[0m\u001b[0;34m(\u001b[0m\u001b[0mpreds\u001b[0m\u001b[0;34m,\u001b[0m \u001b[0my_pred_knn\u001b[0m\u001b[0;34m.\u001b[0m\u001b[0mshape\u001b[0m\u001b[0;34m[\u001b[0m\u001b[0;36m0\u001b[0m\u001b[0;34m]\u001b[0m\u001b[0;34m)\u001b[0m\u001b[0;34m\u001b[0m\u001b[0;34m\u001b[0m\u001b[0m\n\u001b[0m\u001b[1;32m     28\u001b[0m \u001b[0;34m\u001b[0m\u001b[0m\n\u001b[1;32m     29\u001b[0m \u001b[0mprint\u001b[0m\u001b[0;34m(\u001b[0m\u001b[0mmetrics\u001b[0m\u001b[0;34m.\u001b[0m\u001b[0maccuracy_score\u001b[0m\u001b[0;34m(\u001b[0m\u001b[0my_test\u001b[0m\u001b[0;34m,\u001b[0m \u001b[0my_pred\u001b[0m\u001b[0;34m)\u001b[0m\u001b[0;34m)\u001b[0m\u001b[0;34m\u001b[0m\u001b[0;34m\u001b[0m\u001b[0m\n",
            "\u001b[0;32m<ipython-input-17-42c8c4a43952>\u001b[0m in \u001b[0;36mensemble_predictions\u001b[0;34m(predictions, len_pred)\u001b[0m\n\u001b[1;32m      8\u001b[0m     \u001b[0;32mfor\u001b[0m \u001b[0mp\u001b[0m \u001b[0;32min\u001b[0m \u001b[0mpredictions\u001b[0m\u001b[0;34m:\u001b[0m\u001b[0;34m\u001b[0m\u001b[0;34m\u001b[0m\u001b[0m\n\u001b[1;32m      9\u001b[0m       \u001b[0mclasses\u001b[0m\u001b[0;34m.\u001b[0m\u001b[0mappend\u001b[0m\u001b[0;34m(\u001b[0m\u001b[0mp\u001b[0m\u001b[0;34m[\u001b[0m\u001b[0mprediction\u001b[0m\u001b[0;34m]\u001b[0m\u001b[0;34m)\u001b[0m\u001b[0;34m\u001b[0m\u001b[0;34m\u001b[0m\u001b[0m\n\u001b[0;32m---> 10\u001b[0;31m     \u001b[0mmost_common\u001b[0m\u001b[0;34m,\u001b[0m \u001b[0mcount\u001b[0m \u001b[0;34m=\u001b[0m \u001b[0mCounter\u001b[0m\u001b[0;34m(\u001b[0m\u001b[0mclasses\u001b[0m\u001b[0;34m)\u001b[0m\u001b[0;34m.\u001b[0m\u001b[0mmost_common\u001b[0m\u001b[0;34m(\u001b[0m\u001b[0;36m1\u001b[0m\u001b[0;34m)\u001b[0m\u001b[0;34m[\u001b[0m\u001b[0;36m0\u001b[0m\u001b[0;34m]\u001b[0m\u001b[0;34m\u001b[0m\u001b[0;34m\u001b[0m\u001b[0m\n\u001b[0m\u001b[1;32m     11\u001b[0m     \u001b[0mfinal_predictions\u001b[0m\u001b[0;34m.\u001b[0m\u001b[0mappend\u001b[0m\u001b[0;34m(\u001b[0m\u001b[0mmost_common\u001b[0m\u001b[0;34m)\u001b[0m\u001b[0;34m\u001b[0m\u001b[0;34m\u001b[0m\u001b[0m\n\u001b[1;32m     12\u001b[0m     \u001b[0mclasses\u001b[0m\u001b[0;34m.\u001b[0m\u001b[0mclear\u001b[0m\u001b[0;34m(\u001b[0m\u001b[0;34m)\u001b[0m\u001b[0;34m\u001b[0m\u001b[0;34m\u001b[0m\u001b[0m\n",
            "\u001b[0;32m/usr/lib/python3.6/collections/__init__.py\u001b[0m in \u001b[0;36m__init__\u001b[0;34m(*args, **kwds)\u001b[0m\n\u001b[1;32m    533\u001b[0m             \u001b[0;32mraise\u001b[0m \u001b[0mTypeError\u001b[0m\u001b[0;34m(\u001b[0m\u001b[0;34m'expected at most 1 arguments, got %d'\u001b[0m \u001b[0;34m%\u001b[0m \u001b[0mlen\u001b[0m\u001b[0;34m(\u001b[0m\u001b[0margs\u001b[0m\u001b[0;34m)\u001b[0m\u001b[0;34m)\u001b[0m\u001b[0;34m\u001b[0m\u001b[0;34m\u001b[0m\u001b[0m\n\u001b[1;32m    534\u001b[0m         \u001b[0msuper\u001b[0m\u001b[0;34m(\u001b[0m\u001b[0mCounter\u001b[0m\u001b[0;34m,\u001b[0m \u001b[0mself\u001b[0m\u001b[0;34m)\u001b[0m\u001b[0;34m.\u001b[0m\u001b[0m__init__\u001b[0m\u001b[0;34m(\u001b[0m\u001b[0;34m)\u001b[0m\u001b[0;34m\u001b[0m\u001b[0;34m\u001b[0m\u001b[0m\n\u001b[0;32m--> 535\u001b[0;31m         \u001b[0mself\u001b[0m\u001b[0;34m.\u001b[0m\u001b[0mupdate\u001b[0m\u001b[0;34m(\u001b[0m\u001b[0;34m*\u001b[0m\u001b[0margs\u001b[0m\u001b[0;34m,\u001b[0m \u001b[0;34m**\u001b[0m\u001b[0mkwds\u001b[0m\u001b[0;34m)\u001b[0m\u001b[0;34m\u001b[0m\u001b[0;34m\u001b[0m\u001b[0m\n\u001b[0m\u001b[1;32m    536\u001b[0m \u001b[0;34m\u001b[0m\u001b[0m\n\u001b[1;32m    537\u001b[0m     \u001b[0;32mdef\u001b[0m \u001b[0m__missing__\u001b[0m\u001b[0;34m(\u001b[0m\u001b[0mself\u001b[0m\u001b[0;34m,\u001b[0m \u001b[0mkey\u001b[0m\u001b[0;34m)\u001b[0m\u001b[0;34m:\u001b[0m\u001b[0;34m\u001b[0m\u001b[0;34m\u001b[0m\u001b[0m\n",
            "\u001b[0;32m/usr/lib/python3.6/collections/__init__.py\u001b[0m in \u001b[0;36mupdate\u001b[0;34m(*args, **kwds)\u001b[0m\n\u001b[1;32m    620\u001b[0m                     \u001b[0msuper\u001b[0m\u001b[0;34m(\u001b[0m\u001b[0mCounter\u001b[0m\u001b[0;34m,\u001b[0m \u001b[0mself\u001b[0m\u001b[0;34m)\u001b[0m\u001b[0;34m.\u001b[0m\u001b[0mupdate\u001b[0m\u001b[0;34m(\u001b[0m\u001b[0miterable\u001b[0m\u001b[0;34m)\u001b[0m \u001b[0;31m# fast path when counter is empty\u001b[0m\u001b[0;34m\u001b[0m\u001b[0;34m\u001b[0m\u001b[0m\n\u001b[1;32m    621\u001b[0m             \u001b[0;32melse\u001b[0m\u001b[0;34m:\u001b[0m\u001b[0;34m\u001b[0m\u001b[0;34m\u001b[0m\u001b[0m\n\u001b[0;32m--> 622\u001b[0;31m                 \u001b[0m_count_elements\u001b[0m\u001b[0;34m(\u001b[0m\u001b[0mself\u001b[0m\u001b[0;34m,\u001b[0m \u001b[0miterable\u001b[0m\u001b[0;34m)\u001b[0m\u001b[0;34m\u001b[0m\u001b[0;34m\u001b[0m\u001b[0m\n\u001b[0m\u001b[1;32m    623\u001b[0m         \u001b[0;32mif\u001b[0m \u001b[0mkwds\u001b[0m\u001b[0;34m:\u001b[0m\u001b[0;34m\u001b[0m\u001b[0;34m\u001b[0m\u001b[0m\n\u001b[1;32m    624\u001b[0m             \u001b[0mself\u001b[0m\u001b[0;34m.\u001b[0m\u001b[0mupdate\u001b[0m\u001b[0;34m(\u001b[0m\u001b[0mkwds\u001b[0m\u001b[0;34m)\u001b[0m\u001b[0;34m\u001b[0m\u001b[0;34m\u001b[0m\u001b[0m\n",
            "\u001b[0;31mTypeError\u001b[0m: unhashable type: 'numpy.ndarray'"
          ]
        }
      ]
    },
    {
      "cell_type": "code",
      "metadata": {
        "id": "3B9-3EGmiyRu",
        "outputId": "efc1156a-198c-4d15-8979-5ad3467dee0f",
        "colab": {
          "base_uri": "https://localhost:8080/",
          "height": 34
        }
      },
      "source": [
        "pred_nn = []\n",
        "for p in y_pred_nn:\n",
        "  pred_nn.append(np.argmax(p))\n",
        "\n",
        "y_pred_nn = np.array(pred_nn)\n",
        "\n",
        "preds = [y_pred_knn,y_pred_svc,y_pred_sgd,y_pred_nn]\n",
        "\n",
        "y_pred = ensemble_predictions(preds, y_pred_knn.shape[0])\n",
        "\n",
        "print(metrics.accuracy_score(y_test, y_pred))"
      ],
      "execution_count": null,
      "outputs": [
        {
          "output_type": "stream",
          "text": [
            "0.9754\n"
          ],
          "name": "stdout"
        }
      ]
    },
    {
      "cell_type": "markdown",
      "metadata": {
        "id": "C4QKF11sq6fR"
      },
      "source": [
        "Not too good, CNN accuracy is better. So I'll try to optimize the CNN instead."
      ]
    },
    {
      "cell_type": "code",
      "metadata": {
        "id": "IBHWgsaGrCA0"
      },
      "source": [
        ""
      ],
      "execution_count": null,
      "outputs": []
    }
  ]
}