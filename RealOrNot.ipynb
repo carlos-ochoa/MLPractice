{
  "nbformat": 4,
  "nbformat_minor": 0,
  "metadata": {
    "colab": {
      "name": "RealOrNot.ipynb",
      "provenance": [],
      "toc_visible": true,
      "mount_file_id": "1oM5NiVtlb1m1Qj9YRDvyX3RL5k-kXynH",
      "authorship_tag": "ABX9TyObl50Ayp0vnD6fSG40kmLo",
      "include_colab_link": true
    },
    "kernelspec": {
      "name": "python3",
      "display_name": "Python 3"
    }
  },
  "cells": [
    {
      "cell_type": "markdown",
      "metadata": {
        "id": "view-in-github",
        "colab_type": "text"
      },
      "source": [
        "<a href=\"https://colab.research.google.com/github/carlos-ochoa/MLPractice/blob/main/RealOrNot.ipynb\" target=\"_parent\"><img src=\"https://colab.research.google.com/assets/colab-badge.svg\" alt=\"Open In Colab\"/></a>"
      ]
    },
    {
      "cell_type": "markdown",
      "metadata": {
        "id": "6Af7nz1U2dd4"
      },
      "source": [
        "# Real Or Not Kaggle competition\n",
        "\n",
        "This time the task is to find if a tweet is real or not, these tweets are about disasters.\n",
        "\n",
        "The link of the competition is: https://www.kaggle.com/c/nlp-getting-started/overview\n"
      ]
    },
    {
      "cell_type": "code",
      "metadata": {
        "id": "dIScjT47w3tI",
        "outputId": "ba12c7c7-ccba-4275-8ad8-b018acd826cf",
        "colab": {
          "base_uri": "https://localhost:8080/"
        }
      },
      "source": [
        "# First of all I'm gonna load every module that could be useful for this\n",
        "\n",
        "import pandas as pd\n",
        "import numpy as np\n",
        "import re\n",
        "import tensorflow as tf\n",
        "import nltk\n",
        "from nltk.corpus import stopwords\n",
        "from nltk.stem import WordNetLemmatizer \n",
        "import tensorflow.keras as kr\n",
        "from tensorflow.keras.preprocessing.text import Tokenizer\n",
        "from tensorflow.keras.preprocessing.sequence import pad_sequences\n",
        "import matplotlib.pyplot as plt\n",
        "from sklearn.neighbors import KNeighborsClassifier\n",
        "from sklearn.ensemble import RandomForestClassifier, VotingClassifier\n",
        "from sklearn.feature_extraction.text import TfidfVectorizer\n",
        "from sklearn.neighbors import KNeighborsClassifier\n",
        "import tensorflow_hub as hub\n",
        "\n",
        "nltk.download('stopwords')\n",
        "nltk.download('wordnet')\n"
      ],
      "execution_count": null,
      "outputs": [
        {
          "output_type": "stream",
          "text": [
            "[nltk_data] Downloading package stopwords to /root/nltk_data...\n",
            "[nltk_data]   Unzipping corpora/stopwords.zip.\n",
            "[nltk_data] Downloading package wordnet to /root/nltk_data...\n",
            "[nltk_data]   Unzipping corpora/wordnet.zip.\n"
          ],
          "name": "stdout"
        },
        {
          "output_type": "execute_result",
          "data": {
            "text/plain": [
              "True"
            ]
          },
          "metadata": {
            "tags": []
          },
          "execution_count": 1
        }
      ]
    },
    {
      "cell_type": "markdown",
      "metadata": {
        "id": "BBWhNL6C0Bip"
      },
      "source": [
        "We can see the data contained within the csv file. For now, I'm going to use only the text field."
      ]
    },
    {
      "cell_type": "code",
      "metadata": {
        "id": "ooprupC00CJd",
        "outputId": "9dcad815-1295-486b-a553-8204c17c8e8c",
        "colab": {
          "base_uri": "https://localhost:8080/",
          "height": 821
        }
      },
      "source": [
        "path = 'drive/My Drive/Competencias Kaggle/RealOrNot/'\n",
        "\n",
        "train_data = pd.read_csv(path+'train.csv')\n",
        "test_data = pd.read_csv(path+'test.csv') \n",
        "\n",
        "display(train_data)\n",
        "\n",
        "train_dataset = train_data.drop(columns = ['id', 'keyword', 'location'])\n",
        "test_dataset = test_data.drop(columns = ['keyword', 'location'])\n",
        "\n",
        "display(train_dataset)"
      ],
      "execution_count": null,
      "outputs": [
        {
          "output_type": "display_data",
          "data": {
            "text/html": [
              "<div>\n",
              "<style scoped>\n",
              "    .dataframe tbody tr th:only-of-type {\n",
              "        vertical-align: middle;\n",
              "    }\n",
              "\n",
              "    .dataframe tbody tr th {\n",
              "        vertical-align: top;\n",
              "    }\n",
              "\n",
              "    .dataframe thead th {\n",
              "        text-align: right;\n",
              "    }\n",
              "</style>\n",
              "<table border=\"1\" class=\"dataframe\">\n",
              "  <thead>\n",
              "    <tr style=\"text-align: right;\">\n",
              "      <th></th>\n",
              "      <th>id</th>\n",
              "      <th>keyword</th>\n",
              "      <th>location</th>\n",
              "      <th>text</th>\n",
              "      <th>target</th>\n",
              "    </tr>\n",
              "  </thead>\n",
              "  <tbody>\n",
              "    <tr>\n",
              "      <th>0</th>\n",
              "      <td>1</td>\n",
              "      <td>NaN</td>\n",
              "      <td>NaN</td>\n",
              "      <td>Our Deeds are the Reason of this #earthquake M...</td>\n",
              "      <td>1</td>\n",
              "    </tr>\n",
              "    <tr>\n",
              "      <th>1</th>\n",
              "      <td>4</td>\n",
              "      <td>NaN</td>\n",
              "      <td>NaN</td>\n",
              "      <td>Forest fire near La Ronge Sask. Canada</td>\n",
              "      <td>1</td>\n",
              "    </tr>\n",
              "    <tr>\n",
              "      <th>2</th>\n",
              "      <td>5</td>\n",
              "      <td>NaN</td>\n",
              "      <td>NaN</td>\n",
              "      <td>All residents asked to 'shelter in place' are ...</td>\n",
              "      <td>1</td>\n",
              "    </tr>\n",
              "    <tr>\n",
              "      <th>3</th>\n",
              "      <td>6</td>\n",
              "      <td>NaN</td>\n",
              "      <td>NaN</td>\n",
              "      <td>13,000 people receive #wildfires evacuation or...</td>\n",
              "      <td>1</td>\n",
              "    </tr>\n",
              "    <tr>\n",
              "      <th>4</th>\n",
              "      <td>7</td>\n",
              "      <td>NaN</td>\n",
              "      <td>NaN</td>\n",
              "      <td>Just got sent this photo from Ruby #Alaska as ...</td>\n",
              "      <td>1</td>\n",
              "    </tr>\n",
              "    <tr>\n",
              "      <th>...</th>\n",
              "      <td>...</td>\n",
              "      <td>...</td>\n",
              "      <td>...</td>\n",
              "      <td>...</td>\n",
              "      <td>...</td>\n",
              "    </tr>\n",
              "    <tr>\n",
              "      <th>7608</th>\n",
              "      <td>10869</td>\n",
              "      <td>NaN</td>\n",
              "      <td>NaN</td>\n",
              "      <td>Two giant cranes holding a bridge collapse int...</td>\n",
              "      <td>1</td>\n",
              "    </tr>\n",
              "    <tr>\n",
              "      <th>7609</th>\n",
              "      <td>10870</td>\n",
              "      <td>NaN</td>\n",
              "      <td>NaN</td>\n",
              "      <td>@aria_ahrary @TheTawniest The out of control w...</td>\n",
              "      <td>1</td>\n",
              "    </tr>\n",
              "    <tr>\n",
              "      <th>7610</th>\n",
              "      <td>10871</td>\n",
              "      <td>NaN</td>\n",
              "      <td>NaN</td>\n",
              "      <td>M1.94 [01:04 UTC]?5km S of Volcano Hawaii. htt...</td>\n",
              "      <td>1</td>\n",
              "    </tr>\n",
              "    <tr>\n",
              "      <th>7611</th>\n",
              "      <td>10872</td>\n",
              "      <td>NaN</td>\n",
              "      <td>NaN</td>\n",
              "      <td>Police investigating after an e-bike collided ...</td>\n",
              "      <td>1</td>\n",
              "    </tr>\n",
              "    <tr>\n",
              "      <th>7612</th>\n",
              "      <td>10873</td>\n",
              "      <td>NaN</td>\n",
              "      <td>NaN</td>\n",
              "      <td>The Latest: More Homes Razed by Northern Calif...</td>\n",
              "      <td>1</td>\n",
              "    </tr>\n",
              "  </tbody>\n",
              "</table>\n",
              "<p>7613 rows × 5 columns</p>\n",
              "</div>"
            ],
            "text/plain": [
              "         id keyword  ...                                               text target\n",
              "0         1     NaN  ...  Our Deeds are the Reason of this #earthquake M...      1\n",
              "1         4     NaN  ...             Forest fire near La Ronge Sask. Canada      1\n",
              "2         5     NaN  ...  All residents asked to 'shelter in place' are ...      1\n",
              "3         6     NaN  ...  13,000 people receive #wildfires evacuation or...      1\n",
              "4         7     NaN  ...  Just got sent this photo from Ruby #Alaska as ...      1\n",
              "...     ...     ...  ...                                                ...    ...\n",
              "7608  10869     NaN  ...  Two giant cranes holding a bridge collapse int...      1\n",
              "7609  10870     NaN  ...  @aria_ahrary @TheTawniest The out of control w...      1\n",
              "7610  10871     NaN  ...  M1.94 [01:04 UTC]?5km S of Volcano Hawaii. htt...      1\n",
              "7611  10872     NaN  ...  Police investigating after an e-bike collided ...      1\n",
              "7612  10873     NaN  ...  The Latest: More Homes Razed by Northern Calif...      1\n",
              "\n",
              "[7613 rows x 5 columns]"
            ]
          },
          "metadata": {
            "tags": []
          }
        },
        {
          "output_type": "display_data",
          "data": {
            "text/html": [
              "<div>\n",
              "<style scoped>\n",
              "    .dataframe tbody tr th:only-of-type {\n",
              "        vertical-align: middle;\n",
              "    }\n",
              "\n",
              "    .dataframe tbody tr th {\n",
              "        vertical-align: top;\n",
              "    }\n",
              "\n",
              "    .dataframe thead th {\n",
              "        text-align: right;\n",
              "    }\n",
              "</style>\n",
              "<table border=\"1\" class=\"dataframe\">\n",
              "  <thead>\n",
              "    <tr style=\"text-align: right;\">\n",
              "      <th></th>\n",
              "      <th>text</th>\n",
              "      <th>target</th>\n",
              "    </tr>\n",
              "  </thead>\n",
              "  <tbody>\n",
              "    <tr>\n",
              "      <th>0</th>\n",
              "      <td>Our Deeds are the Reason of this #earthquake M...</td>\n",
              "      <td>1</td>\n",
              "    </tr>\n",
              "    <tr>\n",
              "      <th>1</th>\n",
              "      <td>Forest fire near La Ronge Sask. Canada</td>\n",
              "      <td>1</td>\n",
              "    </tr>\n",
              "    <tr>\n",
              "      <th>2</th>\n",
              "      <td>All residents asked to 'shelter in place' are ...</td>\n",
              "      <td>1</td>\n",
              "    </tr>\n",
              "    <tr>\n",
              "      <th>3</th>\n",
              "      <td>13,000 people receive #wildfires evacuation or...</td>\n",
              "      <td>1</td>\n",
              "    </tr>\n",
              "    <tr>\n",
              "      <th>4</th>\n",
              "      <td>Just got sent this photo from Ruby #Alaska as ...</td>\n",
              "      <td>1</td>\n",
              "    </tr>\n",
              "    <tr>\n",
              "      <th>...</th>\n",
              "      <td>...</td>\n",
              "      <td>...</td>\n",
              "    </tr>\n",
              "    <tr>\n",
              "      <th>7608</th>\n",
              "      <td>Two giant cranes holding a bridge collapse int...</td>\n",
              "      <td>1</td>\n",
              "    </tr>\n",
              "    <tr>\n",
              "      <th>7609</th>\n",
              "      <td>@aria_ahrary @TheTawniest The out of control w...</td>\n",
              "      <td>1</td>\n",
              "    </tr>\n",
              "    <tr>\n",
              "      <th>7610</th>\n",
              "      <td>M1.94 [01:04 UTC]?5km S of Volcano Hawaii. htt...</td>\n",
              "      <td>1</td>\n",
              "    </tr>\n",
              "    <tr>\n",
              "      <th>7611</th>\n",
              "      <td>Police investigating after an e-bike collided ...</td>\n",
              "      <td>1</td>\n",
              "    </tr>\n",
              "    <tr>\n",
              "      <th>7612</th>\n",
              "      <td>The Latest: More Homes Razed by Northern Calif...</td>\n",
              "      <td>1</td>\n",
              "    </tr>\n",
              "  </tbody>\n",
              "</table>\n",
              "<p>7613 rows × 2 columns</p>\n",
              "</div>"
            ],
            "text/plain": [
              "                                                   text  target\n",
              "0     Our Deeds are the Reason of this #earthquake M...       1\n",
              "1                Forest fire near La Ronge Sask. Canada       1\n",
              "2     All residents asked to 'shelter in place' are ...       1\n",
              "3     13,000 people receive #wildfires evacuation or...       1\n",
              "4     Just got sent this photo from Ruby #Alaska as ...       1\n",
              "...                                                 ...     ...\n",
              "7608  Two giant cranes holding a bridge collapse int...       1\n",
              "7609  @aria_ahrary @TheTawniest The out of control w...       1\n",
              "7610  M1.94 [01:04 UTC]?5km S of Volcano Hawaii. htt...       1\n",
              "7611  Police investigating after an e-bike collided ...       1\n",
              "7612  The Latest: More Homes Razed by Northern Calif...       1\n",
              "\n",
              "[7613 rows x 2 columns]"
            ]
          },
          "metadata": {
            "tags": []
          }
        }
      ]
    },
    {
      "cell_type": "markdown",
      "metadata": {
        "id": "mGQDe4Sw4WqL"
      },
      "source": [
        "## Preprocessing text data\n",
        "\n",
        "There's a proccess I have to follow in order to clean the data, first I'm going to split the words in every sentence, and then erase some special characters.\n",
        "\n",
        "Then stopwords will be removed and words will be lematized.\n"
      ]
    },
    {
      "cell_type": "code",
      "metadata": {
        "id": "gZ5L9btK7Cmz"
      },
      "source": [
        "lemmatizer = WordNetLemmatizer()\n",
        "\n",
        "sentences = list(train_dataset['text'])\n",
        "sentences_test = list(test_dataset['text'])\n",
        "\n",
        "def listToString(s):  \n",
        "    str1 = \"\"    \n",
        "    for ele in s:  \n",
        "        str1 += ele   \n",
        "    return str1\n",
        "\n",
        "def hasNumbers(inputString):\n",
        "  return bool(re.search(r'\\d', inputString))\n",
        "\n",
        "def proccess_text(sentences):\n",
        "  sent = ''\n",
        "  final_sentences, f_s = [], []\n",
        "  # Erasing special characters \n",
        "  sentences = [re.sub(r'[^\\w]', ' ', sentence) for sentence in sentences]\n",
        "  # Splitting sentences\n",
        "  splitted_sentences = [sentence.split() for sentence in sentences]\n",
        "  # Converting every letter to lowercase and removing stopwords, then lemmatize\n",
        "  for sentence in splitted_sentences:\n",
        "    final_sentences.append([lemmatizer.lemmatize(word.lower()) for word in sentence if word.lower() and not word.lower() in stopwords.words('english') and not word.lower().startswith('http') and not hasNumbers(word.lower())])\n",
        "  for sentence in final_sentences:\n",
        "    sent = listToString(sentence)\n",
        "    f_s.append(sent)\n",
        "  return f_s\n",
        "\n",
        "final_sentences = proccess_text(sentences)\n",
        "final_sentences_test = proccess_text(sentences_test)\n",
        "\n",
        "\n"
      ],
      "execution_count": null,
      "outputs": []
    },
    {
      "cell_type": "markdown",
      "metadata": {
        "id": "iSvRQAwtQRjS"
      },
      "source": [
        "Time to tokenize! Let's transform every word in a token and then get sequences from that."
      ]
    },
    {
      "cell_type": "code",
      "metadata": {
        "id": "DksZScn74zMa",
        "outputId": "98b3b38f-f28b-4eda-bdb8-89c315814a51",
        "colab": {
          "base_uri": "https://localhost:8080/"
        }
      },
      "source": [
        "tokenizer = Tokenizer(oov_token=\"<OOV>\")\n",
        "\n",
        "def tokenize(final_sentences):\n",
        "  # fitting the sentences to using created tokenizer object\n",
        "  tokenizer.fit_on_texts(final_sentences)\n",
        "  sequences = tokenizer.texts_to_sequences(final_sentences)\n",
        "  padded_sequences = pad_sequences(sequences, padding = 'post')\n",
        "  return padded_sequences\n",
        "\n",
        "training_sequences = tokenize(final_sentences)\n",
        "training_labels = train_dataset['target']\n",
        "\n",
        "testing_sequences = tokenize(final_sentences_test)\n",
        "testing_ids = test_dataset['id']\n",
        "\n",
        "print(training_sequences.shape)\n",
        "print(training_labels.shape)"
      ],
      "execution_count": null,
      "outputs": [
        {
          "output_type": "stream",
          "text": [
            "(7613, 23)\n",
            "(7613,)\n"
          ],
          "name": "stdout"
        }
      ]
    },
    {
      "cell_type": "markdown",
      "metadata": {
        "id": "UZwqjHlMR2J6"
      },
      "source": [
        "## Neural network model\n",
        "\n",
        "We have a RNN architecture with Bidirectional LSTM units, also I'm using transfer learning in order to vectorize words in useful embeddings trained with 200B words.\n",
        "\n",
        "![image.png](data:image/png;base64,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)\n",
        "\n",
        "Even though I've coded a preproccesing and tokenizing function, they are not necessary because the nnlm model does preprocessing for me. Nevertheless is a good decisition to do it by myself. \n",
        "In fact, I tried these functions to create the proccesed sentences to feed the RNN but its performance wasn't too good, it is better using the preprocessing of the nnlm model itself."
      ]
    },
    {
      "cell_type": "code",
      "metadata": {
        "id": "0y1oIig4j_Xk",
        "outputId": "f9769fb6-2a34-4b7a-f12c-56f89212ddc5",
        "colab": {
          "base_uri": "https://localhost:8080/",
          "height": 1000
        }
      },
      "source": [
        "# Embedding layer, transforms sentences to a 128-dimensional embedding.\n",
        "hub_layer = hub.KerasLayer(\"https://tfhub.dev/google/tf2-preview/nnlm-en-dim128/1\", output_shape=[128],\n",
        "                           input_shape=[], dtype=tf.string)\n",
        "\n",
        "# creating a model for sentiment analysis\n",
        "model  = tf.keras.Sequential([\n",
        "                hub_layer,\n",
        "                tf.keras.layers.Reshape((1, 128)),\n",
        "                tf.keras.layers.Bidirectional(tf.keras.layers.LSTM(units = 16, return_sequences=True),input_shape=[1,128]),\n",
        "                #tf.keras.layers.Dense(15, activation = 'tanh'),\n",
        "                #tf.keras.layers.Dense(5, activation = 'tanh'),\n",
        "                tf.keras.layers.Dense(16, activation='relu'),\n",
        "                tf.keras.layers.Dense(1, activation = 'sigmoid')\n",
        "])\n",
        "\n",
        "model.summary()\n",
        "\n",
        "model.compile(loss = 'binary_crossentropy', optimizer = 'adam', metrics = ['accuracy'])\n",
        "\n",
        "num_epochs = 20\n",
        "\n",
        "history = model.fit(np.array(sentences),training_labels, epochs = num_epochs, verbose = 1, validation_split = 0.25, batch_size=64)\n",
        "\n",
        "plt.plot(range(num_epochs), history.history['accuracy'])\n",
        "plt.plot(range(num_epochs), history.history['val_accuracy'])"
      ],
      "execution_count": null,
      "outputs": [
        {
          "output_type": "stream",
          "text": [
            "WARNING:tensorflow:5 out of the last 5 calls to <function recreate_function.<locals>.restored_function_body at 0x7f3b8eeff158> triggered tf.function retracing. Tracing is expensive and the excessive number of tracings could be due to (1) creating @tf.function repeatedly in a loop, (2) passing tensors with different shapes, (3) passing Python objects instead of tensors. For (1), please define your @tf.function outside of the loop. For (2), @tf.function has experimental_relax_shapes=True option that relaxes argument shapes that can avoid unnecessary retracing. For (3), please refer to https://www.tensorflow.org/tutorials/customization/performance#python_or_tensor_args and https://www.tensorflow.org/api_docs/python/tf/function for  more details.\n"
          ],
          "name": "stdout"
        },
        {
          "output_type": "stream",
          "text": [
            "WARNING:tensorflow:5 out of the last 5 calls to <function recreate_function.<locals>.restored_function_body at 0x7f3b8eeff158> triggered tf.function retracing. Tracing is expensive and the excessive number of tracings could be due to (1) creating @tf.function repeatedly in a loop, (2) passing tensors with different shapes, (3) passing Python objects instead of tensors. For (1), please define your @tf.function outside of the loop. For (2), @tf.function has experimental_relax_shapes=True option that relaxes argument shapes that can avoid unnecessary retracing. For (3), please refer to https://www.tensorflow.org/tutorials/customization/performance#python_or_tensor_args and https://www.tensorflow.org/api_docs/python/tf/function for  more details.\n"
          ],
          "name": "stderr"
        },
        {
          "output_type": "stream",
          "text": [
            "WARNING:tensorflow:6 out of the last 6 calls to <function recreate_function.<locals>.restored_function_body at 0x7f3b8ef10730> triggered tf.function retracing. Tracing is expensive and the excessive number of tracings could be due to (1) creating @tf.function repeatedly in a loop, (2) passing tensors with different shapes, (3) passing Python objects instead of tensors. For (1), please define your @tf.function outside of the loop. For (2), @tf.function has experimental_relax_shapes=True option that relaxes argument shapes that can avoid unnecessary retracing. For (3), please refer to https://www.tensorflow.org/tutorials/customization/performance#python_or_tensor_args and https://www.tensorflow.org/api_docs/python/tf/function for  more details.\n"
          ],
          "name": "stdout"
        },
        {
          "output_type": "stream",
          "text": [
            "WARNING:tensorflow:6 out of the last 6 calls to <function recreate_function.<locals>.restored_function_body at 0x7f3b8ef10730> triggered tf.function retracing. Tracing is expensive and the excessive number of tracings could be due to (1) creating @tf.function repeatedly in a loop, (2) passing tensors with different shapes, (3) passing Python objects instead of tensors. For (1), please define your @tf.function outside of the loop. For (2), @tf.function has experimental_relax_shapes=True option that relaxes argument shapes that can avoid unnecessary retracing. For (3), please refer to https://www.tensorflow.org/tutorials/customization/performance#python_or_tensor_args and https://www.tensorflow.org/api_docs/python/tf/function for  more details.\n"
          ],
          "name": "stderr"
        },
        {
          "output_type": "stream",
          "text": [
            "Model: \"sequential_2\"\n",
            "_________________________________________________________________\n",
            "Layer (type)                 Output Shape              Param #   \n",
            "=================================================================\n",
            "keras_layer_2 (KerasLayer)   (None, 128)               124642688 \n",
            "_________________________________________________________________\n",
            "reshape_2 (Reshape)          (None, 1, 128)            0         \n",
            "_________________________________________________________________\n",
            "bidirectional_3 (Bidirection (None, 1, 32)             18560     \n",
            "_________________________________________________________________\n",
            "dense_4 (Dense)              (None, 1, 16)             528       \n",
            "_________________________________________________________________\n",
            "dense_5 (Dense)              (None, 1, 1)              17        \n",
            "=================================================================\n",
            "Total params: 124,661,793\n",
            "Trainable params: 19,105\n",
            "Non-trainable params: 124,642,688\n",
            "_________________________________________________________________\n",
            "Epoch 1/20\n",
            "90/90 [==============================] - 9s 95ms/step - loss: 0.6480 - accuracy: 0.6873 - val_loss: 0.5661 - val_accuracy: 0.7589\n",
            "Epoch 2/20\n",
            "90/90 [==============================] - 8s 85ms/step - loss: 0.5257 - accuracy: 0.7592 - val_loss: 0.4944 - val_accuracy: 0.7747\n",
            "Epoch 3/20\n",
            "90/90 [==============================] - 8s 85ms/step - loss: 0.4933 - accuracy: 0.7690 - val_loss: 0.4802 - val_accuracy: 0.7868\n",
            "Epoch 4/20\n",
            "90/90 [==============================] - 8s 86ms/step - loss: 0.4812 - accuracy: 0.7786 - val_loss: 0.4746 - val_accuracy: 0.7873\n",
            "Epoch 5/20\n",
            "90/90 [==============================] - 8s 86ms/step - loss: 0.4752 - accuracy: 0.7803 - val_loss: 0.4709 - val_accuracy: 0.7862\n",
            "Epoch 6/20\n",
            "90/90 [==============================] - 8s 87ms/step - loss: 0.4711 - accuracy: 0.7842 - val_loss: 0.4717 - val_accuracy: 0.7899\n",
            "Epoch 7/20\n",
            "90/90 [==============================] - 8s 86ms/step - loss: 0.4675 - accuracy: 0.7840 - val_loss: 0.4691 - val_accuracy: 0.7868\n",
            "Epoch 8/20\n",
            "90/90 [==============================] - 8s 85ms/step - loss: 0.4648 - accuracy: 0.7856 - val_loss: 0.4706 - val_accuracy: 0.7857\n",
            "Epoch 9/20\n",
            "90/90 [==============================] - 8s 86ms/step - loss: 0.4627 - accuracy: 0.7896 - val_loss: 0.4724 - val_accuracy: 0.7883\n",
            "Epoch 10/20\n",
            "90/90 [==============================] - 8s 86ms/step - loss: 0.4598 - accuracy: 0.7888 - val_loss: 0.4701 - val_accuracy: 0.7920\n",
            "Epoch 11/20\n",
            "90/90 [==============================] - 8s 84ms/step - loss: 0.4575 - accuracy: 0.7905 - val_loss: 0.4721 - val_accuracy: 0.7883\n",
            "Epoch 12/20\n",
            "90/90 [==============================] - 8s 85ms/step - loss: 0.4554 - accuracy: 0.7902 - val_loss: 0.4724 - val_accuracy: 0.7883\n",
            "Epoch 13/20\n",
            "90/90 [==============================] - 8s 84ms/step - loss: 0.4529 - accuracy: 0.7905 - val_loss: 0.4735 - val_accuracy: 0.7826\n",
            "Epoch 14/20\n",
            "90/90 [==============================] - 7s 83ms/step - loss: 0.4507 - accuracy: 0.7910 - val_loss: 0.4714 - val_accuracy: 0.7910\n",
            "Epoch 15/20\n",
            "90/90 [==============================] - 8s 84ms/step - loss: 0.4479 - accuracy: 0.7935 - val_loss: 0.4723 - val_accuracy: 0.7925\n",
            "Epoch 16/20\n",
            "90/90 [==============================] - 8s 86ms/step - loss: 0.4452 - accuracy: 0.7942 - val_loss: 0.4743 - val_accuracy: 0.7904\n",
            "Epoch 17/20\n",
            "90/90 [==============================] - 8s 85ms/step - loss: 0.4429 - accuracy: 0.7968 - val_loss: 0.4744 - val_accuracy: 0.7952\n",
            "Epoch 18/20\n",
            "90/90 [==============================] - 8s 86ms/step - loss: 0.4396 - accuracy: 0.7989 - val_loss: 0.4778 - val_accuracy: 0.7878\n",
            "Epoch 19/20\n",
            "90/90 [==============================] - 8s 88ms/step - loss: 0.4373 - accuracy: 0.7984 - val_loss: 0.4761 - val_accuracy: 0.7899\n",
            "Epoch 20/20\n",
            "90/90 [==============================] - 9s 97ms/step - loss: 0.4337 - accuracy: 0.8024 - val_loss: 0.4761 - val_accuracy: 0.7915\n"
          ],
          "name": "stdout"
        },
        {
          "output_type": "execute_result",
          "data": {
            "text/plain": [
              "[<matplotlib.lines.Line2D at 0x7f3b8e7fa278>]"
            ]
          },
          "metadata": {
            "tags": []
          },
          "execution_count": 9
        },
        {
          "output_type": "display_data",
          "data": {
            "image/png": "[encoded data removed]",
            "text/plain": [
              "<Figure size 432x288 with 1 Axes>"
            ]
          },
          "metadata": {
            "tags": [],
            "needs_background": "light"
          }
        }
      ]
    },
    {
      "cell_type": "code",
      "metadata": {
        "id": "YaZhSYqcZ5ED",
        "outputId": "6df6bc62-1b79-4fec-8ce0-deac8fe61014",
        "colab": {
          "base_uri": "https://localhost:8080/",
          "height": 419
        }
      },
      "source": [
        "predictions = model.predict(np.array(sentences_test))\n",
        "predictions = np.where(predictions > 0.5, 1, 0)\n",
        "predictions = predictions.reshape(1,3263).flatten()\n",
        "results = {'id' : testing_ids, 'target' : predictions.astype('int32')}\n",
        "results = pd.DataFrame(results)\n",
        "results.to_csv('results.csv', index = False)\n",
        "display(results)"
      ],
      "execution_count": null,
      "outputs": [
        {
          "output_type": "display_data",
          "data": {
            "text/html": [
              "<div>\n",
              "<style scoped>\n",
              "    .dataframe tbody tr th:only-of-type {\n",
              "        vertical-align: middle;\n",
              "    }\n",
              "\n",
              "    .dataframe tbody tr th {\n",
              "        vertical-align: top;\n",
              "    }\n",
              "\n",
              "    .dataframe thead th {\n",
              "        text-align: right;\n",
              "    }\n",
              "</style>\n",
              "<table border=\"1\" class=\"dataframe\">\n",
              "  <thead>\n",
              "    <tr style=\"text-align: right;\">\n",
              "      <th></th>\n",
              "      <th>id</th>\n",
              "      <th>target</th>\n",
              "    </tr>\n",
              "  </thead>\n",
              "  <tbody>\n",
              "    <tr>\n",
              "      <th>0</th>\n",
              "      <td>0</td>\n",
              "      <td>1</td>\n",
              "    </tr>\n",
              "    <tr>\n",
              "      <th>1</th>\n",
              "      <td>2</td>\n",
              "      <td>0</td>\n",
              "    </tr>\n",
              "    <tr>\n",
              "      <th>2</th>\n",
              "      <td>3</td>\n",
              "      <td>1</td>\n",
              "    </tr>\n",
              "    <tr>\n",
              "      <th>3</th>\n",
              "      <td>9</td>\n",
              "      <td>0</td>\n",
              "    </tr>\n",
              "    <tr>\n",
              "      <th>4</th>\n",
              "      <td>11</td>\n",
              "      <td>1</td>\n",
              "    </tr>\n",
              "    <tr>\n",
              "      <th>...</th>\n",
              "      <td>...</td>\n",
              "      <td>...</td>\n",
              "    </tr>\n",
              "    <tr>\n",
              "      <th>3258</th>\n",
              "      <td>10861</td>\n",
              "      <td>0</td>\n",
              "    </tr>\n",
              "    <tr>\n",
              "      <th>3259</th>\n",
              "      <td>10865</td>\n",
              "      <td>1</td>\n",
              "    </tr>\n",
              "    <tr>\n",
              "      <th>3260</th>\n",
              "      <td>10868</td>\n",
              "      <td>1</td>\n",
              "    </tr>\n",
              "    <tr>\n",
              "      <th>3261</th>\n",
              "      <td>10874</td>\n",
              "      <td>1</td>\n",
              "    </tr>\n",
              "    <tr>\n",
              "      <th>3262</th>\n",
              "      <td>10875</td>\n",
              "      <td>0</td>\n",
              "    </tr>\n",
              "  </tbody>\n",
              "</table>\n",
              "<p>3263 rows × 2 columns</p>\n",
              "</div>"
            ],
            "text/plain": [
              "         id  target\n",
              "0         0       1\n",
              "1         2       0\n",
              "2         3       1\n",
              "3         9       0\n",
              "4        11       1\n",
              "...     ...     ...\n",
              "3258  10861       0\n",
              "3259  10865       1\n",
              "3260  10868       1\n",
              "3261  10874       1\n",
              "3262  10875       0\n",
              "\n",
              "[3263 rows x 2 columns]"
            ]
          },
          "metadata": {
            "tags": []
          }
        }
      ]
    },
    {
      "cell_type": "markdown",
      "metadata": {
        "id": "pKz_I0zsCIQz"
      },
      "source": [
        "This is the accuracy achieved.\n",
        "\n",
        "![image.png](data:image/png;base64,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)"
      ]
    },
    {
      "cell_type": "markdown",
      "metadata": {
        "id": "c5uzP1CAZfEM"
      },
      "source": [
        "## Results and what I learned\n",
        "\n",
        "At first my model was suffering of overfitting. That was happening because I was using a custom embedding layer in my RNN, but I didn't have enough data to get a succesful embedding, the vocabulary was pretty small and so the dataset. \n",
        "\n",
        "The overfitting was solved using transfer learning for the embedding part.\n",
        "\n",
        "Nevertheless there was other problem detected: High bias and variance, so even though the RNN gets a good result this is not as good as I wanted. In order to tackle that I've been thinking to get more data. However this could be achieved by data augmentation, something that I will be trying soon."
      ]
    }
  ]
}